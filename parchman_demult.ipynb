{
 "metadata": {
  "name": ""
 },
 "nbformat": 3,
 "nbformat_minor": 0,
 "worksheets": [
  {
   "cells": [
    {
     "cell_type": "code",
     "collapsed": false,
     "input": [
      "file_dir = \"/home/cfriedline/eckertlab/bccl.csbc.vcu.edu/internal/Eckert\""
     ],
     "language": "python",
     "metadata": {},
     "outputs": [],
     "prompt_number": ""
    },
    {
     "cell_type": "code",
     "collapsed": false,
     "input": [
      "from IPython.parallel import Client\n",
      "rc = Client(profile=\"sge\")\n",
      "dview = rc[:] #all nodes\n",
      "lview = rc.load_balanced_view() # for load balancing"
     ],
     "language": "python",
     "metadata": {},
     "outputs": [],
     "prompt_number": ""
    },
    {
     "cell_type": "code",
     "collapsed": false,
     "input": [
      "with dview.sync_imports():\n",
      "    import stopwatch\n",
      "    import numpy\n",
      "    import numpy as np\n",
      "    import scipy\n",
      "    import pandas\n",
      "    import gzip\n",
      "    import os\n",
      "    import tempfile\n",
      "    import shutil\n",
      "    import socket\n",
      "    from Bio.SeqIO.QualityIO import FastqGeneralIterator\n",
      "    from collections import deque, defaultdict\n",
      "    import multiprocessing \n",
      "    from multiprocessing import Pool, Manager\n",
      "    import traceback\n",
      "    from itertools import izip"
     ],
     "language": "python",
     "metadata": {},
     "outputs": [],
     "prompt_number": ""
    },
    {
     "cell_type": "code",
     "collapsed": false,
     "input": [
      "processed = !find $file_dir -type f | grep processed.fastq\\$\n",
      "processed = sorted(processed)"
     ],
     "language": "python",
     "metadata": {},
     "outputs": [],
     "prompt_number": ""
    },
    {
     "cell_type": "code",
     "collapsed": false,
     "input": [
      "for p in processed:\n",
      "    print p"
     ],
     "language": "python",
     "metadata": {},
     "outputs": [],
     "prompt_number": ""
    },
    {
     "cell_type": "code",
     "collapsed": false,
     "input": [],
     "language": "python",
     "metadata": {},
     "outputs": []
    }
   ],
   "metadata": {}
  }
 ]
}