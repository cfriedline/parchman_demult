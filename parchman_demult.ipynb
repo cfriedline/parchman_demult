{
 "metadata": {
  "name": ""
 },
 "nbformat": 3,
 "nbformat_minor": 0,
 "worksheets": [
  {
   "cells": [
    {
     "cell_type": "code",
     "collapsed": false,
     "input": [
      "file_dir = \"/home/cfriedline/eckertlab/bccl.csbc.vcu.edu/internal/Eckert\""
     ],
     "language": "python",
     "metadata": {},
     "outputs": [],
     "prompt_number": ""
    },
    {
     "cell_type": "code",
     "collapsed": false,
     "input": [
      "from IPython.parallel import Client\n",
      "rc = Client(profile=\"sge\")\n",
      "dview = rc[:] #all nodes\n",
      "lview = rc.load_balanced_view() # for load balancing\n",
      "print \"%d nodes in the cluster\" % len(rc.ids)"
     ],
     "language": "python",
     "metadata": {},
     "outputs": [],
     "prompt_number": ""
    },
    {
     "cell_type": "code",
     "collapsed": false,
     "input": [
      "with dview.sync_imports():\n",
      "    import stopwatch\n",
      "    import numpy\n",
      "    import numpy as np\n",
      "    import scipy\n",
      "    import pandas\n",
      "    import gzip\n",
      "    import os\n",
      "    import tempfile\n",
      "    import shutil\n",
      "    import socket\n",
      "    from Bio.SeqIO.QualityIO import FastqGeneralIterator\n",
      "    from collections import deque, defaultdict\n",
      "    import multiprocessing \n",
      "    from multiprocessing import Pool, Manager\n",
      "    import traceback\n",
      "    from itertools import izip"
     ],
     "language": "python",
     "metadata": {},
     "outputs": [],
     "prompt_number": ""
    },
    {
     "cell_type": "code",
     "collapsed": false,
     "input": [
      "processed = !find $file_dir -type f | grep processed.fastq\\$ | grep -v test\n",
      "processed = sorted(processed)"
     ],
     "language": "python",
     "metadata": {},
     "outputs": [],
     "prompt_number": ""
    },
    {
     "cell_type": "code",
     "collapsed": false,
     "input": [
      "#get single ended samples\n",
      "singles = []\n",
      "for p in processed:\n",
      "    if \"read1\" in p:\n",
      "        test = p.replace(\"read1\", \"read2\")\n",
      "        if not os.path.exists(test):\n",
      "            singles.append(p)\n",
      "singles"
     ],
     "language": "python",
     "metadata": {},
     "outputs": [],
     "prompt_number": ""
    },
    {
     "cell_type": "code",
     "collapsed": false,
     "input": [
      "def format_fastq_tuple(title, seq, qual):\n",
      "    assert len(seq) == len(qual)\n",
      "    return \"@%s\\n%s\\n+\\n%s\\n\" % (title, seq, qual)\n",
      "dview['format_fastq_tuple'] = format_fastq_tuple"
     ],
     "language": "python",
     "metadata": {},
     "outputs": [],
     "prompt_number": ""
    },
    {
     "cell_type": "code",
     "collapsed": false,
     "input": [
      "def get_writers(barcodes):\n",
      "    w = defaultdict()\n",
      "    for b, name in barcodes.items():\n",
      "        w[b] = [name, tempfile.NamedTemporaryFile(delete=False)]\n",
      "    return w\n",
      "\n",
      "def get_barcodes(f):\n",
      "    bcs = defaultdict()\n",
      "    bc_lens = set()\n",
      "    b = os.path.join(os.path.dirname(f), \"barcodes\")\n",
      "    h = open(b)\n",
      "    h.readline()\n",
      "    for line in h:\n",
      "        line = line.strip()\n",
      "        data = line.split(\"\\t\")\n",
      "        if \",\" in data[0]:\n",
      "            data[0] = data[0].replace(\" \", \"\").replace(\",\", \"-\")\n",
      "        bc = data[4].upper().replace(\"CTCTTTCCCTACACGACGCTCTTCCGATCT\", \"\")[:-1]\n",
      "        bc_lens.add(len(bc))\n",
      "        bcs[bc] = data[1] + \"_\" + data[0]\n",
      "    \n",
      "    return bcs, bc_lens    \n",
      "\n",
      "def check_barcodes(barcodes):\n",
      "    for i in barcodes.keys():\n",
      "        for j in barcodes.keys():\n",
      "            if i != j:\n",
      "                assert not j.startswith(i)\n",
      "                \n",
      "def demult(f):\n",
      "    print f\n",
      "    hostname = socket.gethostname()\n",
      "    timer = stopwatch.Timer()\n",
      "    out_dir = os.path.dirname(f)\n",
      "    barcodes, barcode_lens = get_barcodes(f)\n",
      "    check_barcodes(barcodes)\n",
      "    writers = get_writers(barcodes)\n",
      "    count = 0\n",
      "    found = defaultdict(int)\n",
      "    for title, seq, qual in FastqGeneralIterator(open(f)):\n",
      "        for l in barcode_lens: \n",
      "            bc = seq[0:l]\n",
      "            if bc in barcodes:\n",
      "                found[bc] += 1\n",
      "                w = writers[bc][1]\n",
      "                w.write(format_fastq_tuple(title, seq[l:], qual[l:]))\n",
      "                break\n",
      "            \n",
      "        count += 1\n",
      "            \n",
      "        if count % 10000 == 0:\n",
      "            print hostname, f, count\n",
      "    pool = Pool()\n",
      "    for k, v in writers.items():\n",
      "        v[1].close()\n",
      "        if k in found:\n",
      "            copy_timer = stopwatch.Timer()\n",
      "            out_file = os.path.join(out_dir, \"%s_%s.fastq\" % (v[0], k))\n",
      "            shutil.copy(v[1].name, out_file)\n",
      "            copy_timer.stop()\n",
      "        os.remove(v[1].name)\n",
      "    timer.stop()\n",
      "    print timer\n",
      "    \n",
      "dview['demult'] = demult\n",
      "dview['check_barcodes'] = check_barcodes\n",
      "dview['get_writers'] = get_writers\n",
      "dview['get_barcodes'] = get_barcodes"
     ],
     "language": "python",
     "metadata": {},
     "outputs": [],
     "prompt_number": ""
    },
    {
     "cell_type": "code",
     "collapsed": false,
     "input": [
      "result = lview.apply_async(demult, singles[0])"
     ],
     "language": "python",
     "metadata": {},
     "outputs": [],
     "prompt_number": ""
    },
    {
     "cell_type": "code",
     "collapsed": false,
     "input": [
      "result.ready()"
     ],
     "language": "python",
     "metadata": {},
     "outputs": [],
     "prompt_number": ""
    },
    {
     "cell_type": "code",
     "collapsed": false,
     "input": [],
     "language": "python",
     "metadata": {},
     "outputs": []
    }
   ],
   "metadata": {}
  }
 ]
}